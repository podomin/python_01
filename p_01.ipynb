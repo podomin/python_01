{
 "cells": [
  {
   "cell_type": "code",
   "execution_count": 1,
   "metadata": {},
   "outputs": [
    {
     "name": "stdout",
     "output_type": "stream",
     "text": [
      "a: 10 b: python c: 1.40\n"
     ]
    }
   ],
   "source": [
    "# 변수 사용\n",
    "\n",
    "a = 10\n",
    "b = \"python\"\n",
    "c = 1.4\n",
    "\n",
    "print(\"a: %d b: %s c: %.2f\"%(a,b,c))\n",
    "# %d : 숫자, %s : 문자, %2f : 소숫점 2쨎자리 float(실수)"
   ]
  },
  {
   "cell_type": "code",
   "execution_count": 2,
   "metadata": {},
   "outputs": [
    {
     "name": "stdout",
     "output_type": "stream",
     "text": [
      "a: 10 b: python c: 1.4\n"
     ]
    }
   ],
   "source": [
    "print(\"a: %d b: %s c: %.1f\"%(a,b,c))"
   ]
  },
  {
   "cell_type": "code",
   "execution_count": 3,
   "metadata": {},
   "outputs": [
    {
     "name": "stdout",
     "output_type": "stream",
     "text": [
      "<class 'int'>\n",
      "<class 'str'>\n",
      "<class 'float'>\n"
     ]
    }
   ],
   "source": [
    "# 선언한 변수의 데이터 타입 알아보기\n",
    "\n",
    "print(type(a))\n",
    "print(type(b))\n",
    "print(type(c))"
   ]
  },
  {
   "cell_type": "code",
   "execution_count": null,
   "metadata": {},
   "outputs": [],
   "source": [
    "# 변수 선언 규칙\n",
    "\n",
    "1apple = 200\n",
    "# 변수의 첫 문자로는 숫자가 올 수 없다\n",
    "\n",
    "if = 10\n",
    "# 파이썬 키워드 또는 예약어를 변수명으로 사용할 수 없다\n",
    "\n",
    "Apple = 10\n",
    "Apple\n",
    "# class 의 변수명은 대문자로 시작됨.\n",
    "# class가 아니어도 변수명에 첫 문자로 대문자가 올 수는 있으나, 헷갈려서 잘 안 씀"
   ]
  },
  {
   "cell_type": "code",
   "execution_count": 4,
   "metadata": {},
   "outputs": [],
   "source": [
    "# 파이썬 연산자\n",
    "\n",
    "a = 10\n",
    "b = 3"
   ]
  },
  {
   "cell_type": "code",
   "execution_count": 5,
   "metadata": {},
   "outputs": [
    {
     "name": "stdout",
     "output_type": "stream",
     "text": [
      "a+b: c = 13\n",
      "a-b: c = 7\n",
      "a*b: c = 30\n",
      "a/b: c = 3.333333\n",
      "a//b: c = 3\n",
      "a%b: c = 1\n",
      "a**b : c = 1000\n"
     ]
    }
   ],
   "source": [
    "# 더하기 연산\n",
    "c = a + b\n",
    "print(\"a+b: c = %d\"%c)\n",
    "\n",
    "# 빼기 연산\n",
    "c = a - b\n",
    "print(\"a-b: c = %d\"%c)\n",
    "\n",
    "# 곱하기 연산\n",
    "c = a * b\n",
    "print(\"a*b: c = %d\"%c)\n",
    "\n",
    "# 나누기 연산\n",
    "c = a / b\n",
    "print(\"a/b: c = %f\"%c)\n",
    "\n",
    "# 정수 몫\n",
    "c = a//b\n",
    "print(\"a//b: c = %d\"%c)\n",
    "\n",
    "# 나머지 연산\n",
    "c = a%b\n",
    "print(\"a%%b: c = %d\"%c)\n",
    "\n",
    "# 누승 연산\n",
    "c = a**b\n",
    "print(\"a**b : c = %d\"%c)"
   ]
  },
  {
   "cell_type": "code",
   "execution_count": 6,
   "metadata": {},
   "outputs": [
    {
     "name": "stdout",
     "output_type": "stream",
     "text": [
      "total= 8100\n"
     ]
    }
   ],
   "source": [
    "# 산술 연산자 응용문제 01\n",
    "\n",
    "\n",
    "#콜라 하나 가격 / 구매 개수\n",
    "cola = 2000\n",
    "nCola = 2\n",
    "# 햄버거 하나 가격\n",
    "hamburger = 5000\n",
    "nHamburger = 1\n",
    "\n",
    "# 통신사 할인률\n",
    "discount = 0.1\n",
    "\n",
    "# 총 지불해야 할 돈은?\n",
    "total = (cola * nCola + hamburger*nHamburger) * ( 1 - discount )\n",
    "\n",
    "print(\"total= %d\"%total)"
   ]
  },
  {
   "cell_type": "code",
   "execution_count": 7,
   "metadata": {},
   "outputs": [
    {
     "name": "stdout",
     "output_type": "stream",
     "text": [
      "이벤트 가능한 횟수: 666\n",
      "이벤트를 하기 위해 채워야 하는 콜라 개수: 1\n"
     ]
    }
   ],
   "source": [
    "# 산술 연산자 응용문제 02\n",
    "# 이벤트 상품(2+1) 에서 지불해야 할 돈은?\n",
    "\n",
    "# 콜라재고 개수\n",
    "nCola = 2000\n",
    "\n",
    "# 2+1 이벤트 가능한 횟수\n",
    "nEvent = nCola // 3\n",
    "print(\"이벤트 가능한 횟수: %d\"%nEvent)\n",
    "\n",
    "# 2+1 이벤트 하기 위해 채워야 하는 콜라 개수는?\n",
    "n_lack_cola = 3 - (nCola % 3)\n",
    "\n",
    "print(\"이벤트를 하기 위해 채워야 하는 콜라 개수: %d\"%n_lack_cola)"
   ]
  },
  {
   "cell_type": "code",
   "execution_count": 8,
   "metadata": {},
   "outputs": [
    {
     "name": "stdout",
     "output_type": "stream",
     "text": [
      "술 판매 되요? False\n",
      "술 판매 되요? True\n"
     ]
    }
   ],
   "source": [
    "# 관계 연산자\n",
    "\n",
    "age = 10\n",
    "print(\"술 판매 되요?\", 20<=age)\n",
    "\n",
    "age = 20\n",
    "print(\"술 판매 되요?\", 20<=age)"
   ]
  },
  {
   "cell_type": "code",
   "execution_count": 9,
   "metadata": {},
   "outputs": [
    {
     "data": {
      "text/plain": [
       "True"
      ]
     },
     "execution_count": 9,
     "metadata": {},
     "output_type": "execute_result"
    }
   ],
   "source": [
    "# 논리 연산자 (boolean >> True, False)\n",
    "\n",
    "year_of_birth = 77\n",
    "end_number = year_of_birth % 10\n",
    "\n",
    "(end_number == 2) or (end_number == 7)"
   ]
  },
  {
   "cell_type": "code",
   "execution_count": 10,
   "metadata": {},
   "outputs": [
    {
     "name": "stdout",
     "output_type": "stream",
     "text": [
      "6000\n"
     ]
    }
   ],
   "source": [
    "# 복합 대입 연산자\n",
    "\n",
    "# 마트 바코드 스캐닝 -> 지불해야 할 총 금액(누적 금액)\n",
    "\n",
    "total = 0 # 초기화\n",
    "\n",
    "cola = 1000\n",
    "hamburger = 3000\n",
    "milk = 2000\n",
    "\n",
    "# 바코드 스캐닝 시작\n",
    "\n",
    "total += cola       # total = total + cola\n",
    "total += hamburger  # total = total + hamburger\n",
    "total += milk\n",
    "\n",
    "\n",
    "print(total)"
   ]
  },
  {
   "cell_type": "code",
   "execution_count": 11,
   "metadata": {},
   "outputs": [
    {
     "name": "stdout",
     "output_type": "stream",
     "text": [
      "total: 10800\n"
     ]
    }
   ],
   "source": [
    "# 직접 코드 짜보기\n",
    "\n",
    "# 햄버거 하나 가격/개수\n",
    "hamburger = 5000\n",
    "nHamburger = 2\n",
    "\n",
    "#콜라 가격/개수\n",
    "cola = 2000\n",
    "nCola = 1\n",
    "\n",
    "# 통신사할인\n",
    "discount = 0.1\n",
    "\n",
    "# 햄버거 2개, 콜라 1개, 통신사 할인률 10% 적용 코드 작성해 주세요\n",
    "total=(cola * nCola + hamburger*nHamburger)*(1-discount)\n",
    "\n",
    "print(\"total: %d\"%total)"
   ]
  },
  {
   "cell_type": "code",
   "execution_count": null,
   "metadata": {},
   "outputs": [],
   "source": []
  }
 ],
 "metadata": {
  "kernelspec": {
   "display_name": "base",
   "language": "python",
   "name": "python3"
  },
  "language_info": {
   "codemirror_mode": {
    "name": "ipython",
    "version": 3
   },
   "file_extension": ".py",
   "mimetype": "text/x-python",
   "name": "python",
   "nbconvert_exporter": "python",
   "pygments_lexer": "ipython3",
   "version": "3.11.5"
  }
 },
 "nbformat": 4,
 "nbformat_minor": 2
}
