{
 "cells": [
  {
   "cell_type": "code",
   "execution_count": null,
   "metadata": {},
   "outputs": [],
   "source": [
    "# 변수 사용\n",
    "\n",
    "a = 10\n",
    "b = \"python\"\n",
    "c = 1.4\n",
    "\n",
    "print(\"a: %d b: %s c: %.2f\"%(a,b,c))\n",
    "# %d : 숫자, %s : 문자, %2f : 소숫점 2쨎자리 float(실수)"
   ]
  }
 ],
 "metadata": {
  "language_info": {
   "name": "python"
  }
 },
 "nbformat": 4,
 "nbformat_minor": 2
}
